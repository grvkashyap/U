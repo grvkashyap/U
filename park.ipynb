{
 "cells": [
  {
   "cell_type": "code",
   "execution_count": null,
   "metadata": {},
   "outputs": [],
   "source": [
    "import numpy as np\n",
    "import pandas as pd\n",
    "import os, sys\n",
    "from sklearn.preprocessing import MinMaxScaler\n",
    "from xgboost import XGBClassifier\n",
    "from sklearn.model_selection import train_test_split\n",
    "from sklearn.metrics import accuracy_score\n",
    "\n",
    "#DataFlair - Read the data\n",
    "df=pd.read_csv('D:\\\\DataFlair\\\\parkinsons.data')\n",
    "df.head()\n",
    "\n",
    "#DataFlair - Get the features and labels\n",
    "features=df.loc[:,df.columns!='status'].values[:,1:]\n",
    "labels=df.loc[:,'status'].values\n",
    "\n",
    "#DataFlair - Get the count of each label (0 and 1) in labels\n",
    "print(labels[labels==1].shape[0], labels[labels==0].shape[0])\n",
    "\n",
    "\n",
    "\n",
    "#DataFlair - Scale the features to between -1 and 1\n",
    "scaler=MinMaxScaler((-1,1))\n",
    "x=scaler.fit_transform(features)\n",
    "y=labels\n",
    "\n",
    "#DataFlair - Split the dataset\n",
    "x_train,x_test,y_train,y_test=train_test_split(x, y, test_size=0.2, random_state=7)\n",
    "\n",
    "\n",
    "# Correlation Matrix Heatmap\n",
    "corrmat = x_train.corr()\n",
    "f, ax = plt.subplots(figsize=(12, 9))\n",
    "sns.heatmap(corrmat, vmax=.8, square=True);\n",
    "\n",
    "\n",
    "################\n",
    "# Top 10 Heatmap\n",
    "k = 10 #number of variables for heatmap\n",
    "cols = corrmat.nlargest(k, 'status')['status'].index\n",
    "cm = np.corrcoef(x_train[cols].values.T)\n",
    "sns.set(font_scale=1.25)\n",
    "hm = sns.heatmap(cm, cbar=True, annot=True, square=True, fmt='.2f', annot_kws={'size': 10}, yticklabels=cols.values, xticklabels=cols.values)\n",
    "plt.show()\n",
    "\n",
    "\n",
    "\n",
    "#DataFlair - Train the model\n",
    "model=XGBClassifier()\n",
    "model.fit(x_train,y_train)\n",
    "\n",
    "# DataFlair - Calculate the accuracy\n",
    "y_pred=model.predict(x_test)\n",
    "print(accuracy_score(y_test, y_pred)*100)\n",
    "\n"
   ]
  }
 ],
 "metadata": {
  "kernelspec": {
   "display_name": "Python 3",
   "language": "python",
   "name": "python3"
  },
  "language_info": {
   "codemirror_mode": {
    "name": "ipython",
    "version": 3
   },
   "file_extension": ".py",
   "mimetype": "text/x-python",
   "name": "python",
   "nbconvert_exporter": "python",
   "pygments_lexer": "ipython3",
   "version": "3.7.3"
  }
 },
 "nbformat": 4,
 "nbformat_minor": 2
}
